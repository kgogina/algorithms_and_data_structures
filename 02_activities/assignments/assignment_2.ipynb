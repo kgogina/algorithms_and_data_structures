{
 "cells": [
  {
   "cell_type": "markdown",
   "metadata": {},
   "source": [
    "# Practice Interview\n",
    "\n",
    "## Objective\n",
    "\n",
    "_*The partner assignment aims to provide participants with the opportunity to practice coding in an interview context. You will analyze your partner's Assignment 1. Moreover, code reviews are common practice in a software development team. This assignment should give you a taste of the code review process.*_\n",
    "\n",
    "## Group Size\n",
    "\n",
    "Each group should have 2 people. You will be assigned a partner\n",
    "\n",
    "## Part 1:\n",
    "\n",
    "You and your partner must share each other's Assignment 1 submission."
   ]
  },
  {
   "cell_type": "markdown",
   "metadata": {},
   "source": [
    "\n",
    "## Part 2:\n",
    "\n",
    "Create a Jupyter Notebook, create 6 of the following headings, and complete the following for your partner's assignment 1:\n",
    "\n",
    "-   Paraphrase the problem in your own words.\n"
   ]
  },
  {
   "cell_type": "code",
   "execution_count": null,
   "metadata": {},
   "outputs": [],
   "source": [
    "# Determine if a binary tree contains any duplicate values by traversing the tree and checking if any value appears more than once. If no missing integer is found, return -1. "
   ]
  },
  {
   "cell_type": "markdown",
   "metadata": {},
   "source": [
    "\n",
    "-   Create 1 new example that demonstrates you understand the problem. Trace/walkthrough 1 example that your partner made and explain it.\n"
   ]
  },
  {
   "cell_type": "code",
   "execution_count": null,
   "metadata": {},
   "outputs": [],
   "source": [
    "# Your answer here\n",
    "def missing_num(nums: List) -> [int]:\n",
    "    # If the input list is empty, return -1\n",
    "    if not nums: \n",
    "        return -1\n",
    "\n",
    "    # Find the maximum number in the list\n",
    "    max_num = max(nums)\n",
    "    \n",
    "    # Create a set containing all numbers from 0 to max_num\n",
    "    full_set = set(range(max_num + 1))   \n",
    "    \n",
    "    # Convert the input list to a set for faster lookup\n",
    "    nums_set = set(nums)                \n",
    "    \n",
    "    # Find the difference between the full set and the nums set to get missing numbers\n",
    "    missing_numbers = list(full_set - nums_set)  \n",
    "    \n",
    "    # Sort the missing numbers in ascending order\n",
    "    missing_numbers.sort() \n",
    "    \n",
    "    # Return the sorted list of missing numbers, or -1 if there are no missing numbers\n",
    "    return missing_numbers if missing_numbers else -1"
   ]
  },
  {
   "cell_type": "markdown",
   "metadata": {},
   "source": [
    "\n",
    "-   Copy the solution your partner wrote. \n"
   ]
  },
  {
   "cell_type": "code",
   "execution_count": null,
   "metadata": {},
   "outputs": [],
   "source": [
    "# Your answer here\n",
    "def missing_num(nums: List) -> [int]:\n",
    "  # TODO\n",
    "    if not nums: \n",
    "        return -1\n",
    "\n",
    "    max_num = max(nums)\n",
    "    full_set = set(range(max_num + 1))   \n",
    "    nums_set = set(nums)                \n",
    "    \n",
    "    missing_numbers = list(full_set - nums_set)  \n",
    "    missing_numbers.sort() \n",
    "    \n",
    "    return missing_numbers if missing_numbers else -1"
   ]
  },
  {
   "cell_type": "markdown",
   "metadata": {},
   "source": [
    "\n",
    "-   Explain why their solution works in your own words.\n"
   ]
  },
  {
   "cell_type": "code",
   "execution_count": null,
   "metadata": {},
   "outputs": [],
   "source": [
    "# The solution identifies missing numbers in a list by comparing the list to a complete range of numbers from 0 to the maximum value in the list, using set operations for efficiency. If any numbers are missing, it returns them sorted; otherwise, it returns -1 if no numbers are missing."
   ]
  },
  {
   "cell_type": "markdown",
   "metadata": {},
   "source": [
    "\n",
    "-   Explain the problem’s time and space complexity in your own words.\n"
   ]
  },
  {
   "cell_type": "code",
   "execution_count": null,
   "metadata": {},
   "outputs": [],
   "source": [
    "# The time complexity of the solution is O(n), where n is the number of elements in the input list, due to operations like finding the maximum value and converting the list to a set. The space complexity is also O(n) because it creates sets to store the full range of numbers and the input numbers. Overall, the solution efficiently handles the list size with linear time and space requirements."
   ]
  },
  {
   "cell_type": "markdown",
   "metadata": {},
   "source": [
    "\n",
    "-   Critique your partner's solution, including explanation, and if there is anything that should be adjusted.\n"
   ]
  },
  {
   "cell_type": "code",
   "execution_count": null,
   "metadata": {},
   "outputs": [],
   "source": [
    "# The solution is efficient and handles the problem well, but it could be optimized to reduce memory usage by avoiding the creation of a large set for the full range."
   ]
  },
  {
   "cell_type": "markdown",
   "metadata": {},
   "source": [
    "\n",
    "## Part 3:\n",
    "\n",
    "Please write a 200 word reflection documenting your process from assignment 1, and your presentation and review experience with your partner at the bottom of the Jupyter Notebook under a new heading \"Reflection.\" Again, export this Notebook as pdf.\n"
   ]
  },
  {
   "cell_type": "markdown",
   "metadata": {},
   "source": [
    "### Reflection"
   ]
  },
  {
   "cell_type": "code",
   "execution_count": null,
   "metadata": {},
   "outputs": [],
   "source": [
    "# Tackling the assignment initially seemed daunting, as it required a deep understanding of recursive functions, a concept I was unfamiliar with. I found myself revisiting and revising the code multiple times to achieve a working solution. This iterative process made me reflect on whether experienced developers craft optimized functions from the start or if they also refine their solutions during development.\n",
    "\n",
    "#Working on the partner assignment was enlightening. It was reassuring to see that other students approached the problem similarly and employed comparable functions, validating my thought process. This experience has heightened my interest in developing more complex functions and integrating diverse coding techniques into my current projects.\n",
    "\n",
    "#Moreover, this exercise emphasized the importance of thoroughly understanding a problem before coding. Previously, I often jumped straight into coding, which led to frequent errors and restarts. The assignment taught me to analyze the problem and consider all possible scenarios, which helps avoid unexpected issues.\n",
    "\n",
    "#Reviewing my partner’s code underscored the critical role of comments. They provide clarity by documenting the thought process and making it easier to trace errors. Comments also facilitate code reviews, as they help decode logic and accommodate different coding styles, thus improving overall code maintainability."
   ]
  },
  {
   "cell_type": "markdown",
   "metadata": {},
   "source": [
    "\n",
    "## Evaluation Criteria\n",
    "\n",
    "We are looking for the similar points as Assignment 1\n",
    "\n",
    "-   Problem is accurately stated\n",
    "\n",
    "-   New example is correct and easily understandable\n",
    "\n",
    "-   Correctness, time, and space complexity of the coding solution\n",
    "\n",
    "-   Clarity in explaining why the solution works, its time and space complexity\n",
    "\n",
    "-   Quality of critique of your partner's assignment, if necessary\n"
   ]
  },
  {
   "cell_type": "markdown",
   "metadata": {},
   "source": [
    "## Submission Information\n",
    "\n",
    "🚨 **Please review our [Assignment Submission Guide](https://github.com/UofT-DSI/onboarding/blob/main/onboarding_documents/submissions.md)** 🚨 for detailed instructions on how to format, branch, and submit your work. Following these guidelines is crucial for your submissions to be evaluated correctly.\n",
    "\n",
    "### Submission Parameters:\n",
    "* Submission Due Date: `HH:MM AM/PM - DD/MM/YYYY`\n",
    "* The branch name for your repo should be: `assignment-2`\n",
    "* What to submit for this assignment:\n",
    "    * This Jupyter Notebook (assignment_2.ipynb) should be populated and should be the only change in your pull request.\n",
    "* What the pull request link should look like for this assignment: `https://github.com/<your_github_username>/algorithms_and_data_structures/pull/<pr_id>`\n",
    "    * Open a private window in your browser. Copy and paste the link to your pull request into the address bar. Make sure you can see your pull request properly. This helps the technical facilitator and learning support staff review your submission easily.\n",
    "\n",
    "Checklist:\n",
    "- [ ] Created a branch with the correct naming convention.\n",
    "- [ ] Ensured that the repository is public.\n",
    "- [ ] Reviewed the PR description guidelines and adhered to them.\n",
    "- [ ] Verify that the link is accessible in a private browser window.\n",
    "\n",
    "If you encounter any difficulties or have questions, please don't hesitate to reach out to our team via our Slack at `#cohort-3-help`. Our Technical Facilitators and Learning Support staff are here to help you navigate any challenges.\n"
   ]
  }
 ],
 "metadata": {
  "language_info": {
   "name": "python"
  }
 },
 "nbformat": 4,
 "nbformat_minor": 2
}
